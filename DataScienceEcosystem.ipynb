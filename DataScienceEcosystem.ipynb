{
 "cells": [
  {
   "cell_type": "markdown",
   "id": "60386c2b",
   "metadata": {},
   "source": [
    "# Data Science Tools and Ecosystem"
   ]
  },
  {
   "cell_type": "markdown",
   "id": "b7d20e60",
   "metadata": {},
   "source": [
    "In this notebook, Data Science Tools and Ecosystem are summarized."
   ]
  },
  {
   "cell_type": "markdown",
   "id": "6ffdfe3f",
   "metadata": {},
   "source": [
    "Some of the popular languages that Data Scientists use are:\n",
    "\n",
    "1. Python.\n",
    "2. SQL.\n",
    "3. R."
   ]
  },
  {
   "cell_type": "markdown",
   "id": "1a3b43b5",
   "metadata": {},
   "source": [
    "Some of the commonly used libraries used by Data Scientists include:\n",
    "\n",
    "1. Pandas.\n",
    "2. TensorFlow.\n",
    "3. NumPy."
   ]
  },
  {
   "cell_type": "markdown",
   "id": "2f55a4b2",
   "metadata": {},
   "source": [
    "| Data Science Tools |\n",
    "| ------ |\n",
    "| RStudio |\n",
    "| Jupyter Notebook |\n",
    "| Zeppelin Notebook |"
   ]
  },
  {
   "cell_type": "markdown",
   "id": "764e2ab7",
   "metadata": {},
   "source": [
    "### Below are a few examples of evaluating arithmetic expressions in Python"
   ]
  },
  {
   "cell_type": "markdown",
   "id": "05cf88ae",
   "metadata": {},
   "source": [
    "This a simple arithmetic expression to mutiply then add integers"
   ]
  },
  {
   "cell_type": "code",
   "execution_count": 13,
   "id": "6f1bac43",
   "metadata": {},
   "outputs": [
    {
     "data": {
      "text/plain": [
       "10"
      ]
     },
     "execution_count": 13,
     "metadata": {},
     "output_type": "execute_result"
    }
   ],
   "source": [
    "(2*2)+2*3"
   ]
  },
  {
   "cell_type": "markdown",
   "id": "6df27c67",
   "metadata": {},
   "source": [
    "This will convert 3 minutes to seconds by multiplying by 60"
   ]
  },
  {
   "cell_type": "code",
   "execution_count": 2,
   "id": "983c2b0e",
   "metadata": {
    "scrolled": true
   },
   "outputs": [
    {
     "data": {
      "text/plain": [
       "180"
      ]
     },
     "execution_count": 2,
     "metadata": {},
     "output_type": "execute_result"
    }
   ],
   "source": [
    "3*60"
   ]
  },
  {
   "cell_type": "markdown",
   "id": "8c60eecf",
   "metadata": {},
   "source": [
    "**Objectives:**\n",
    "\n",
    "- List popular Data Science languages\n",
    "- List popular Data Science libraries\n",
    "- Give examples of evaluating arithmetic expressions"
   ]
  },
  {
   "cell_type": "markdown",
   "id": "bed85e58",
   "metadata": {},
   "source": [
    "## Author\n",
    "Ahmet"
   ]
  }
 ],
 "metadata": {
  "kernelspec": {
   "display_name": "Python 3 (ipykernel)",
   "language": "python",
   "name": "python3"
  },
  "language_info": {
   "codemirror_mode": {
    "name": "ipython",
    "version": 3
   },
   "file_extension": ".py",
   "mimetype": "text/x-python",
   "name": "python",
   "nbconvert_exporter": "python",
   "pygments_lexer": "ipython3",
   "version": "3.11.7"
  }
 },
 "nbformat": 4,
 "nbformat_minor": 5
}
